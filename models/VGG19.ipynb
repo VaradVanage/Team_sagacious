{
 "cells": [
  {
   "cell_type": "code",
   "execution_count": 8,
   "metadata": {},
   "outputs": [],
   "source": [
    "from tensorflow.keras.layers import Input,Lambda,Dense,Flatten\n",
    "from tensorflow.keras.models import Model\n",
    "from tensorflow.keras.applications.vgg19 import VGG19\n",
    "from tensorflow.keras.preprocessing import image\n",
    "from tensorflow.keras.preprocessing.image import ImageDataGenerator,load_img\n",
    "from tensorflow.keras.models import Sequential\n",
    "import numpy as np"
   ]
  },
  {
   "cell_type": "code",
   "execution_count": 2,
   "metadata": {},
   "outputs": [],
   "source": [
    "vgg=VGG19(input_shape=[224,224]+[3],weights=\"imagenet\",include_top=False)"
   ]
  },
  {
   "cell_type": "code",
   "execution_count": 3,
   "metadata": {},
   "outputs": [
    {
     "name": "stdout",
     "output_type": "stream",
     "text": [
      "Model: \"vgg19\"\n",
      "_________________________________________________________________\n",
      " Layer (type)                Output Shape              Param #   \n",
      "=================================================================\n",
      " input_1 (InputLayer)        [(None, 224, 224, 3)]     0         \n",
      "                                                                 \n",
      " block1_conv1 (Conv2D)       (None, 224, 224, 64)      1792      \n",
      "                                                                 \n",
      " block1_conv2 (Conv2D)       (None, 224, 224, 64)      36928     \n",
      "                                                                 \n",
      " block1_pool (MaxPooling2D)  (None, 112, 112, 64)      0         \n",
      "                                                                 \n",
      " block2_conv1 (Conv2D)       (None, 112, 112, 128)     73856     \n",
      "                                                                 \n",
      " block2_conv2 (Conv2D)       (None, 112, 112, 128)     147584    \n",
      "                                                                 \n",
      " block2_pool (MaxPooling2D)  (None, 56, 56, 128)       0         \n",
      "                                                                 \n",
      " block3_conv1 (Conv2D)       (None, 56, 56, 256)       295168    \n",
      "                                                                 \n",
      " block3_conv2 (Conv2D)       (None, 56, 56, 256)       590080    \n",
      "                                                                 \n",
      " block3_conv3 (Conv2D)       (None, 56, 56, 256)       590080    \n",
      "                                                                 \n",
      " block3_conv4 (Conv2D)       (None, 56, 56, 256)       590080    \n",
      "                                                                 \n",
      " block3_pool (MaxPooling2D)  (None, 28, 28, 256)       0         \n",
      "                                                                 \n",
      " block4_conv1 (Conv2D)       (None, 28, 28, 512)       1180160   \n",
      "                                                                 \n",
      " block4_conv2 (Conv2D)       (None, 28, 28, 512)       2359808   \n",
      "                                                                 \n",
      " block4_conv3 (Conv2D)       (None, 28, 28, 512)       2359808   \n",
      "                                                                 \n",
      " block4_conv4 (Conv2D)       (None, 28, 28, 512)       2359808   \n",
      "                                                                 \n",
      " block4_pool (MaxPooling2D)  (None, 14, 14, 512)       0         \n",
      "                                                                 \n",
      " block5_conv1 (Conv2D)       (None, 14, 14, 512)       2359808   \n",
      "                                                                 \n",
      " block5_conv2 (Conv2D)       (None, 14, 14, 512)       2359808   \n",
      "                                                                 \n",
      " block5_conv3 (Conv2D)       (None, 14, 14, 512)       2359808   \n",
      "                                                                 \n",
      " block5_conv4 (Conv2D)       (None, 14, 14, 512)       2359808   \n",
      "                                                                 \n",
      " block5_pool (MaxPooling2D)  (None, 7, 7, 512)         0         \n",
      "                                                                 \n",
      "=================================================================\n",
      "Total params: 20,024,384\n",
      "Trainable params: 20,024,384\n",
      "Non-trainable params: 0\n",
      "_________________________________________________________________\n"
     ]
    }
   ],
   "source": [
    "vgg.summary()"
   ]
  },
  {
   "cell_type": "code",
   "execution_count": 4,
   "metadata": {},
   "outputs": [],
   "source": [
    "for layer in vgg.layers:\n",
    "    layer.trainable=False"
   ]
  },
  {
   "cell_type": "code",
   "execution_count": 5,
   "metadata": {},
   "outputs": [],
   "source": [
    "final_arc=Model(inputs=vgg.input,outputs=Dense(10,activation=\"softmax\")(Flatten()(vgg.output)))"
   ]
  },
  {
   "cell_type": "code",
   "execution_count": 6,
   "metadata": {},
   "outputs": [
    {
     "name": "stdout",
     "output_type": "stream",
     "text": [
      "Model: \"model\"\n",
      "_________________________________________________________________\n",
      " Layer (type)                Output Shape              Param #   \n",
      "=================================================================\n",
      " input_1 (InputLayer)        [(None, 224, 224, 3)]     0         \n",
      "                                                                 \n",
      " block1_conv1 (Conv2D)       (None, 224, 224, 64)      1792      \n",
      "                                                                 \n",
      " block1_conv2 (Conv2D)       (None, 224, 224, 64)      36928     \n",
      "                                                                 \n",
      " block1_pool (MaxPooling2D)  (None, 112, 112, 64)      0         \n",
      "                                                                 \n",
      " block2_conv1 (Conv2D)       (None, 112, 112, 128)     73856     \n",
      "                                                                 \n",
      " block2_conv2 (Conv2D)       (None, 112, 112, 128)     147584    \n",
      "                                                                 \n",
      " block2_pool (MaxPooling2D)  (None, 56, 56, 128)       0         \n",
      "                                                                 \n",
      " block3_conv1 (Conv2D)       (None, 56, 56, 256)       295168    \n",
      "                                                                 \n",
      " block3_conv2 (Conv2D)       (None, 56, 56, 256)       590080    \n",
      "                                                                 \n",
      " block3_conv3 (Conv2D)       (None, 56, 56, 256)       590080    \n",
      "                                                                 \n",
      " block3_conv4 (Conv2D)       (None, 56, 56, 256)       590080    \n",
      "                                                                 \n",
      " block3_pool (MaxPooling2D)  (None, 28, 28, 256)       0         \n",
      "                                                                 \n",
      " block4_conv1 (Conv2D)       (None, 28, 28, 512)       1180160   \n",
      "                                                                 \n",
      " block4_conv2 (Conv2D)       (None, 28, 28, 512)       2359808   \n",
      "                                                                 \n",
      " block4_conv3 (Conv2D)       (None, 28, 28, 512)       2359808   \n",
      "                                                                 \n",
      " block4_conv4 (Conv2D)       (None, 28, 28, 512)       2359808   \n",
      "                                                                 \n",
      " block4_pool (MaxPooling2D)  (None, 14, 14, 512)       0         \n",
      "                                                                 \n",
      " block5_conv1 (Conv2D)       (None, 14, 14, 512)       2359808   \n",
      "                                                                 \n",
      " block5_conv2 (Conv2D)       (None, 14, 14, 512)       2359808   \n",
      "                                                                 \n",
      " block5_conv3 (Conv2D)       (None, 14, 14, 512)       2359808   \n",
      "                                                                 \n",
      " block5_conv4 (Conv2D)       (None, 14, 14, 512)       2359808   \n",
      "                                                                 \n",
      " block5_pool (MaxPooling2D)  (None, 7, 7, 512)         0         \n",
      "                                                                 \n",
      " flatten (Flatten)           (None, 25088)             0         \n",
      "                                                                 \n",
      " dense (Dense)               (None, 10)                250890    \n",
      "                                                                 \n",
      "=================================================================\n",
      "Total params: 20,275,274\n",
      "Trainable params: 250,890\n",
      "Non-trainable params: 20,024,384\n",
      "_________________________________________________________________\n"
     ]
    }
   ],
   "source": [
    "final_arc.summary()"
   ]
  },
  {
   "cell_type": "code",
   "execution_count": 7,
   "metadata": {},
   "outputs": [],
   "source": [
    "final_arc.compile(loss=\"categorical_crossentropy\",optimizer=\"adam\",metrics=[\"accuracy\"])"
   ]
  },
  {
   "cell_type": "code",
   "execution_count": 8,
   "metadata": {},
   "outputs": [],
   "source": [
    "from tensorflow.keras.preprocessing.image import ImageDataGenerator\n",
    "train_augmen=ImageDataGenerator(rescale=1./255,rotation_range=40,shear_range=0.2,zoom_range=0.2,width_shift_range=0.3)\n",
    "test_augmen=ImageDataGenerator(rescale=1./255)\n",
    "#validation_augmen=ImageDataGenerator(rescale=1./255)"
   ]
  },
  {
   "cell_type": "code",
   "execution_count": 9,
   "metadata": {},
   "outputs": [],
   "source": [
    "train_path=\"train\"\n",
    "test_path=\"test\"\n",
    "#valid_path=\"data/val\""
   ]
  },
  {
   "cell_type": "code",
   "execution_count": 10,
   "metadata": {},
   "outputs": [
    {
     "name": "stdout",
     "output_type": "stream",
     "text": [
      "Found 18345 images belonging to 10 classes.\n"
     ]
    }
   ],
   "source": [
    "final_data=train_augmen.flow_from_directory(train_path,target_size=(224,224),class_mode=\"categorical\",batch_size=34)"
   ]
  },
  {
   "cell_type": "code",
   "execution_count": 11,
   "metadata": {},
   "outputs": [
    {
     "name": "stdout",
     "output_type": "stream",
     "text": [
      "Found 4585 images belonging to 10 classes.\n"
     ]
    }
   ],
   "source": [
    "final_test=test_augmen.flow_from_directory(test_path,target_size=(224,224))"
   ]
  },
  {
   "cell_type": "code",
   "execution_count": 12,
   "metadata": {},
   "outputs": [
    {
     "name": "stderr",
     "output_type": "stream",
     "text": [
      "C:\\Users\\Varad Vanage\\AppData\\Local\\Temp\\ipykernel_1912\\2630884418.py:1: UserWarning: `Model.fit_generator` is deprecated and will be removed in a future version. Please use `Model.fit`, which supports generators.\n",
      "  vgg19=final_arc.fit_generator(final_data,epochs=50,steps_per_epoch=20,validation_data=final_test)\n"
     ]
    },
    {
     "name": "stdout",
     "output_type": "stream",
     "text": [
      "Epoch 1/50\n",
      "20/20 [==============================] - 1035s 54s/step - loss: 3.1846 - accuracy: 0.2147 - val_loss: 1.9044 - val_accuracy: 0.3204\n",
      "Epoch 2/50\n",
      "20/20 [==============================] - 881s 46s/step - loss: 1.8321 - accuracy: 0.3868 - val_loss: 1.5795 - val_accuracy: 0.4742\n",
      "Epoch 3/50\n",
      "20/20 [==============================] - 911s 48s/step - loss: 1.3826 - accuracy: 0.5265 - val_loss: 1.1882 - val_accuracy: 0.5980\n",
      "Epoch 4/50\n",
      "20/20 [==============================] - 953s 50s/step - loss: 1.3149 - accuracy: 0.5662 - val_loss: 1.1258 - val_accuracy: 0.6126\n",
      "Epoch 5/50\n",
      "20/20 [==============================] - 875s 46s/step - loss: 1.1817 - accuracy: 0.5926 - val_loss: 1.1627 - val_accuracy: 0.5926\n",
      "Epoch 6/50\n",
      "20/20 [==============================] - 860s 45s/step - loss: 1.1919 - accuracy: 0.5925 - val_loss: 0.9393 - val_accuracy: 0.6807\n",
      "Epoch 7/50\n",
      "20/20 [==============================] - 841s 44s/step - loss: 1.0131 - accuracy: 0.6456 - val_loss: 1.0198 - val_accuracy: 0.6473\n",
      "Epoch 8/50\n",
      "20/20 [==============================] - 803s 42s/step - loss: 1.0958 - accuracy: 0.6279 - val_loss: 0.9758 - val_accuracy: 0.6547\n",
      "Epoch 9/50\n",
      "20/20 [==============================] - 792s 41s/step - loss: 0.9849 - accuracy: 0.6618 - val_loss: 0.9203 - val_accuracy: 0.6643\n",
      "Epoch 10/50\n",
      "20/20 [==============================] - 715s 37s/step - loss: 0.9498 - accuracy: 0.6735 - val_loss: 0.7889 - val_accuracy: 0.7228\n",
      "Epoch 11/50\n",
      "20/20 [==============================] - 696s 36s/step - loss: 0.9544 - accuracy: 0.6750 - val_loss: 0.8894 - val_accuracy: 0.6920\n",
      "Epoch 12/50\n",
      "20/20 [==============================] - 1455s 76s/step - loss: 0.9748 - accuracy: 0.6941 - val_loss: 0.8315 - val_accuracy: 0.7045\n",
      "Epoch 13/50\n",
      "20/20 [==============================] - 6801s 129s/step - loss: 1.0248 - accuracy: 0.6574 - val_loss: 0.8013 - val_accuracy: 0.7256\n",
      "Epoch 14/50\n",
      "20/20 [==============================] - 684s 36s/step - loss: 0.8227 - accuracy: 0.7221 - val_loss: 0.7519 - val_accuracy: 0.7435\n",
      "Epoch 15/50\n",
      "20/20 [==============================] - 704s 37s/step - loss: 1.0097 - accuracy: 0.6588 - val_loss: 0.8049 - val_accuracy: 0.7363\n",
      "Epoch 16/50\n",
      "20/20 [==============================] - 688s 36s/step - loss: 0.9145 - accuracy: 0.6853 - val_loss: 0.7279 - val_accuracy: 0.7533\n",
      "Epoch 17/50\n",
      "20/20 [==============================] - 685s 36s/step - loss: 0.8553 - accuracy: 0.7162 - val_loss: 0.9903 - val_accuracy: 0.6683\n",
      "Epoch 18/50\n",
      "20/20 [==============================] - 685s 36s/step - loss: 0.8287 - accuracy: 0.7088 - val_loss: 0.8863 - val_accuracy: 0.7005\n",
      "Epoch 19/50\n",
      "20/20 [==============================] - 692s 36s/step - loss: 0.8125 - accuracy: 0.7235 - val_loss: 0.5947 - val_accuracy: 0.7980\n",
      "Epoch 20/50\n",
      "20/20 [==============================] - 693s 36s/step - loss: 0.8600 - accuracy: 0.7000 - val_loss: 0.7855 - val_accuracy: 0.7426\n",
      "Epoch 21/50\n",
      "20/20 [==============================] - 12242s 644s/step - loss: 0.9617 - accuracy: 0.6809 - val_loss: 0.8065 - val_accuracy: 0.7202\n",
      "Epoch 22/50\n",
      "20/20 [==============================] - 4146s 218s/step - loss: 0.9546 - accuracy: 0.6779 - val_loss: 0.7151 - val_accuracy: 0.7570\n",
      "Epoch 23/50\n",
      "20/20 [==============================] - 721s 38s/step - loss: 0.9272 - accuracy: 0.6838 - val_loss: 0.9008 - val_accuracy: 0.7058\n",
      "Epoch 24/50\n",
      "20/20 [==============================] - 723s 38s/step - loss: 0.9025 - accuracy: 0.7132 - val_loss: 0.6595 - val_accuracy: 0.7738\n",
      "Epoch 25/50\n",
      "20/20 [==============================] - 747s 39s/step - loss: 0.7843 - accuracy: 0.7265 - val_loss: 0.6506 - val_accuracy: 0.7860\n",
      "Epoch 26/50\n",
      "20/20 [==============================] - 974s 51s/step - loss: 0.7672 - accuracy: 0.7221 - val_loss: 0.7144 - val_accuracy: 0.7579\n",
      "Epoch 27/50\n",
      "20/20 [==============================] - 831s 43s/step - loss: 0.7455 - accuracy: 0.7485 - val_loss: 0.7334 - val_accuracy: 0.7625\n",
      "Epoch 28/50\n",
      "20/20 [==============================] - 876s 46s/step - loss: 0.7263 - accuracy: 0.7618 - val_loss: 0.6482 - val_accuracy: 0.7871\n",
      "Epoch 29/50\n",
      "20/20 [==============================] - 706s 37s/step - loss: 0.6563 - accuracy: 0.7838 - val_loss: 0.7058 - val_accuracy: 0.7664\n",
      "Epoch 30/50\n",
      "20/20 [==============================] - 703s 37s/step - loss: 0.8225 - accuracy: 0.7265 - val_loss: 0.6089 - val_accuracy: 0.7993\n",
      "Epoch 31/50\n",
      "20/20 [==============================] - 751s 39s/step - loss: 0.7606 - accuracy: 0.7368 - val_loss: 0.7927 - val_accuracy: 0.7381\n",
      "Epoch 32/50\n",
      "20/20 [==============================] - 787s 41s/step - loss: 0.7441 - accuracy: 0.7279 - val_loss: 0.6079 - val_accuracy: 0.8000\n",
      "Epoch 33/50\n",
      "20/20 [==============================] - 790s 41s/step - loss: 0.7232 - accuracy: 0.7515 - val_loss: 0.6056 - val_accuracy: 0.8013\n",
      "Epoch 34/50\n",
      "20/20 [==============================] - 906s 47s/step - loss: 0.7241 - accuracy: 0.7534 - val_loss: 0.8476 - val_accuracy: 0.7265\n",
      "Epoch 35/50\n",
      "20/20 [==============================] - 693s 36s/step - loss: 0.7382 - accuracy: 0.7485 - val_loss: 0.6505 - val_accuracy: 0.7808\n",
      "Epoch 36/50\n",
      "20/20 [==============================] - 2516s 132s/step - loss: 0.6166 - accuracy: 0.7750 - val_loss: 0.6881 - val_accuracy: 0.7688\n",
      "Epoch 37/50\n",
      "20/20 [==============================] - 686s 36s/step - loss: 0.7663 - accuracy: 0.7529 - val_loss: 0.8232 - val_accuracy: 0.7280\n",
      "Epoch 38/50\n",
      "20/20 [==============================] - 675s 35s/step - loss: 0.7575 - accuracy: 0.7324 - val_loss: 0.7091 - val_accuracy: 0.7810\n",
      "Epoch 39/50\n",
      "20/20 [==============================] - 681s 36s/step - loss: 0.7946 - accuracy: 0.7206 - val_loss: 0.7063 - val_accuracy: 0.7625\n",
      "Epoch 40/50\n",
      "20/20 [==============================] - 2926s 154s/step - loss: 0.7876 - accuracy: 0.7324 - val_loss: 0.5998 - val_accuracy: 0.7998\n",
      "Epoch 41/50\n",
      "20/20 [==============================] - 1546s 81s/step - loss: 0.6984 - accuracy: 0.7574 - val_loss: 0.7785 - val_accuracy: 0.7341\n",
      "Epoch 42/50\n",
      "20/20 [==============================] - 703s 37s/step - loss: 0.7508 - accuracy: 0.7632 - val_loss: 0.8177 - val_accuracy: 0.7468\n",
      "Epoch 43/50\n",
      "20/20 [==============================] - 824s 43s/step - loss: 0.7192 - accuracy: 0.7588 - val_loss: 0.6584 - val_accuracy: 0.7917\n",
      "Epoch 44/50\n",
      "20/20 [==============================] - 755s 39s/step - loss: 0.7339 - accuracy: 0.7603 - val_loss: 0.6321 - val_accuracy: 0.7911\n",
      "Epoch 45/50\n",
      "20/20 [==============================] - 741s 39s/step - loss: 0.7329 - accuracy: 0.7588 - val_loss: 0.7147 - val_accuracy: 0.7653\n",
      "Epoch 46/50\n",
      "20/20 [==============================] - 12566s 661s/step - loss: 0.6988 - accuracy: 0.7765 - val_loss: 0.6123 - val_accuracy: 0.7943\n",
      "Epoch 47/50\n",
      "20/20 [==============================] - 735s 38s/step - loss: 0.6122 - accuracy: 0.8044 - val_loss: 0.6392 - val_accuracy: 0.7948\n",
      "Epoch 48/50\n",
      "20/20 [==============================] - 715s 37s/step - loss: 0.7894 - accuracy: 0.7500 - val_loss: 1.0654 - val_accuracy: 0.6833\n",
      "Epoch 49/50\n",
      "20/20 [==============================] - 703s 37s/step - loss: 0.9706 - accuracy: 0.7029 - val_loss: 0.7976 - val_accuracy: 0.7503\n",
      "Epoch 50/50\n",
      "20/20 [==============================] - 703s 37s/step - loss: 0.7707 - accuracy: 0.7588 - val_loss: 0.6650 - val_accuracy: 0.7804\n"
     ]
    }
   ],
   "source": [
    "vgg19=final_arc.fit_generator(final_data,epochs=50,steps_per_epoch=20,validation_data=final_test)"
   ]
  },
  {
   "cell_type": "code",
   "execution_count": 13,
   "metadata": {},
   "outputs": [],
   "source": [
    "final_arc.save(\"vgg19.h5\")"
   ]
  },
  {
   "cell_type": "code",
   "execution_count": 14,
   "metadata": {},
   "outputs": [
    {
     "data": {
      "image/png": "[encoded data removed]",
      "text/plain": [
       "<Figure size 432x288 with 1 Axes>"
      ]
     },
     "metadata": {
      "needs_background": "light"
     },
     "output_type": "display_data"
    }
   ],
   "source": [
    "import matplotlib.pyplot as plt\n",
    "plt.plot(vgg19.history[\"loss\"],label=\"train loss\")\n",
    "plt.plot(vgg19.history[\"val_loss\"],label=\"val loss\")\n",
    "plt.legend()\n",
    "plt.show()"
   ]
  },
  {
   "cell_type": "code",
   "execution_count": 15,
   "metadata": {},
   "outputs": [
    {
     "data": {
      "image/png": "[encoded data removed]",
      "text/plain": [
       "<Figure size 432x288 with 1 Axes>"
      ]
     },
     "metadata": {
      "needs_background": "light"
     },
     "output_type": "display_data"
    }
   ],
   "source": [
    "plt.plot(vgg19.history[\"accuracy\"],label=\"train acc\")\n",
    "plt.plot(vgg19.history[\"val_accuracy\"],label=\"val acc\")\n",
    "plt.legend()\n",
    "plt.show()"
   ]
  },
  {
   "cell_type": "code",
   "execution_count": 3,
   "metadata": {},
   "outputs": [],
   "source": [
    "import numpy as np\n",
    "from tensorflow.keras.preprocessing import image\n",
    "img=image.load_img(\"test/Tomato___Target_Spot/0adf2e61-79af-4129-aae0-f41f73b1725f___Com.G_TgS_FL 8275_newPixel25.JPG\",target_size=(224,224))"
   ]
  },
  {
   "cell_type": "code",
   "execution_count": 4,
   "metadata": {},
   "outputs": [],
   "source": [
    "image_array=image.img_to_array(img)\n",
    "image_array=np.expand_dims(image_array/255,axis=0)"
   ]
  },
  {
   "cell_type": "code",
   "execution_count": 1,
   "metadata": {},
   "outputs": [],
   "source": [
    "from tensorflow.keras.models import load_model"
   ]
  },
  {
   "cell_type": "code",
   "execution_count": 5,
   "metadata": {},
   "outputs": [],
   "source": [
    "loaded_model=load_model(\"vgg19.h5\")"
   ]
  },
  {
   "cell_type": "code",
   "execution_count": 6,
   "metadata": {},
   "outputs": [],
   "source": [
    "ans=loaded_model.predict(image_array)"
   ]
  },
  {
   "cell_type": "code",
   "execution_count": 7,
   "metadata": {},
   "outputs": [
    {
     "data": {
      "text/plain": [
       "'Early Blight'"
      ]
     },
     "execution_count": 7,
     "metadata": {},
     "output_type": "execute_result"
    }
   ],
   "source": [
    "list=[\"Bacterial Spot\",\"Early Blight\",\"Healthy\",\"Late Blight\",\"Leaf Mold\",\"Septoria Leaf Spot\",\"Spider Mites Two Spotted Spirer Mite\",\"Target Spot\",\"Mosaic Virus\",\"Yellow Leaf Curl Virus\"]\n",
    "list[np.argmax(ans)]"
   ]
  }
 ],
 "metadata": {
  "interpreter": {
   "hash": "bc02c92f0bd491c58a662095eb1bda7c509685289a32bec1dc8d4306f0cfc27b"
  },
  "kernelspec": {
   "display_name": "Python 3.10.3 64-bit",
   "language": "python",
   "name": "python3"
  },
  "language_info": {
   "codemirror_mode": {
    "name": "ipython",
    "version": 3
   },
   "file_extension": ".py",
   "mimetype": "text/x-python",
   "name": "python",
   "nbconvert_exporter": "python",
   "pygments_lexer": "ipython3",
   "version": "3.10.3"
  },
  "orig_nbformat": 4
 },
 "nbformat": 4,
 "nbformat_minor": 2
}
